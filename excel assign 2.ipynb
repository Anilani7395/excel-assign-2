{
 "cells": [
  {
   "cell_type": "markdown",
   "id": "25e5e6ca",
   "metadata": {},
   "source": [
    "1)it locks the specific cell or rows or columns in a worksheet"
   ]
  },
  {
   "cell_type": "code",
   "execution_count": null,
   "id": "42cf02e7",
   "metadata": {},
   "outputs": [],
   "source": [
    "2)"
   ]
  },
  {
   "cell_type": "code",
   "execution_count": null,
   "id": "685de88f",
   "metadata": {},
   "outputs": [],
   "source": [
    "3)the order of operations are;\n",
    "*parentheses {},(),[]\n",
    "*exponents ^\n",
    "*multiplication\n",
    "*division\n",
    "*addition\n",
    "*subtraction"
   ]
  },
  {
   "cell_type": "code",
   "execution_count": null,
   "id": "5e7e11b6",
   "metadata": {},
   "outputs": [],
   "source": [
    "4)top 5 functions of excel are\n",
    "#sum    =sum(number,number2)\n",
    "#avergage\n",
    "#count\n",
    "#if\n",
    "#trim         trim(text)"
   ]
  },
  {
   "cell_type": "markdown",
   "id": "a573d4c2",
   "metadata": {},
   "source": [
    "5)it is used to exclude filtered or hidden rows when calculating a total on the worksheet"
   ]
  },
  {
   "cell_type": "markdown",
   "id": "fa544818",
   "metadata": {},
   "source": [
    "6)vlookup(lookup_value,table_array,col_index_num,[range_lookup])\n",
    "#look up is used  for value what we wamt\n",
    "#table array is in table range including all cells in the table\n",
    "#col index num is where data which is being looked up\n",
    "#range lookup it is set as true or false"
   ]
  }
 ],
 "metadata": {
  "kernelspec": {
   "display_name": "Python 3 (ipykernel)",
   "language": "python",
   "name": "python3"
  },
  "language_info": {
   "codemirror_mode": {
    "name": "ipython",
    "version": 3
   },
   "file_extension": ".py",
   "mimetype": "text/x-python",
   "name": "python",
   "nbconvert_exporter": "python",
   "pygments_lexer": "ipython3",
   "version": "3.9.12"
  }
 },
 "nbformat": 4,
 "nbformat_minor": 5
}
